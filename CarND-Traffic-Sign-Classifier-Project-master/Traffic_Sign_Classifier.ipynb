{
 "cells": [
  {
   "cell_type": "markdown",
   "metadata": {},
   "source": [
    "# Self-Driving Car Engineer Nanodegree\n",
    "\n",
    "## Deep Learning\n",
    "\n",
    "## Project: Build a Traffic Sign Recognition Classifier\n",
    "\n",
    "In this notebook, a template is provided for you to implement your functionality in stages, which is required to successfully complete this project. If additional code is required that cannot be included in the notebook, be sure that the Python code is successfully imported and included in your submission if necessary. \n",
    "\n",
    "> **Note**: Once you have completed all of the code implementations, you need to finalize your work by exporting the iPython Notebook as an HTML document. Before exporting the notebook to html, all of the code cells need to have been run so that reviewers can see the final implementation and output. You can then export the notebook by using the menu above and navigating to  \\n\",\n",
    "    \"**File -> Download as -> HTML (.html)**. Include the finished document along with this notebook as your submission. \n",
    "\n",
    "In addition to implementing code, there is a writeup to complete. The writeup should be completed in a separate file, which can be either a markdown file or a pdf document. There is a [write up template](https://github.com/udacity/CarND-Traffic-Sign-Classifier-Project/blob/master/writeup_template.md) that can be used to guide the writing process. Completing the code template and writeup template will cover all of the [rubric points](https://review.udacity.com/#!/rubrics/481/view) for this project.\n",
    "\n",
    "The [rubric](https://review.udacity.com/#!/rubrics/481/view) contains \"Stand Out Suggestions\" for enhancing the project beyond the minimum requirements. The stand out suggestions are optional. If you decide to pursue the \"stand out suggestions\", you can include the code in this Ipython notebook and also discuss the results in the writeup file.\n",
    "\n",
    "\n",
    ">**Note:** Code and Markdown cells can be executed using the **Shift + Enter** keyboard shortcut. In addition, Markdown cells can be edited by typically double-clicking the cell to enter edit mode."
   ]
  },
  {
   "cell_type": "markdown",
   "metadata": {},
   "source": [
    "---\n",
    "## Step 0: Load The Data"
   ]
  },
  {
   "cell_type": "code",
   "execution_count": 35,
   "metadata": {},
   "outputs": [],
   "source": [
    "import glob\n",
    "import pandas as pd\n",
    "import matplotlib\n",
    "import matplotlib.pyplot as plt\n",
    "import matplotlib.image as mpimg\n",
    "import cv2\n",
    "import os\n",
    "import numpy as np\n",
    "from sklearn.model_selection import train_test_split\n",
    "from sklearn.metrics import confusion_matrix\n",
    "from sklearn.utils import shuffle\n",
    "import tensorflow as tf\n",
    "\n",
    "from tensorflow.contrib.layers import flatten\n",
    "#from pipeline import NeuralNetwork, make_adam, Session, build_pipeline\n",
    "\n",
    "matplotlib.style.use('ggplot')\n",
    "%matplotlib inline\n",
    "%config InlineBackend.figure_format = 'retina'"
   ]
  },
  {
   "cell_type": "code",
   "execution_count": 36,
   "metadata": {},
   "outputs": [],
   "source": [
    "TRAIN_IMAGE_DIR = 'GTSRB\\\\Final_Training\\\\Images'\n",
    "\n",
    "dfs = []\n",
    "#open csv file\n",
    "for train_file in glob.glob(os.path.join(TRAIN_IMAGE_DIR, '*/GT-*.csv')):\n",
    "    folder = train_file.split('\\\\')[3]\n",
    "    df = pd.read_csv(train_file, sep=';')\n",
    "    df['Filename'] = df['Filename'].apply(lambda x: os.path.join(TRAIN_IMAGE_DIR, folder, x))\n",
    "    dfs.append(df)"
   ]
  },
  {
   "cell_type": "code",
   "execution_count": 37,
   "metadata": {},
   "outputs": [
    {
     "data": {
      "text/html": [
       "<div>\n",
       "<style scoped>\n",
       "    .dataframe tbody tr th:only-of-type {\n",
       "        vertical-align: middle;\n",
       "    }\n",
       "\n",
       "    .dataframe tbody tr th {\n",
       "        vertical-align: top;\n",
       "    }\n",
       "\n",
       "    .dataframe thead th {\n",
       "        text-align: right;\n",
       "    }\n",
       "</style>\n",
       "<table border=\"1\" class=\"dataframe\">\n",
       "  <thead>\n",
       "    <tr style=\"text-align: right;\">\n",
       "      <th></th>\n",
       "      <th>Filename</th>\n",
       "      <th>Width</th>\n",
       "      <th>Height</th>\n",
       "      <th>Roi.X1</th>\n",
       "      <th>Roi.Y1</th>\n",
       "      <th>Roi.X2</th>\n",
       "      <th>Roi.Y2</th>\n",
       "      <th>ClassId</th>\n",
       "    </tr>\n",
       "  </thead>\n",
       "  <tbody>\n",
       "    <tr>\n",
       "      <th>0</th>\n",
       "      <td>GTSRB\\Final_Training\\Images\\00000\\00000_00000.ppm</td>\n",
       "      <td>29</td>\n",
       "      <td>30</td>\n",
       "      <td>5</td>\n",
       "      <td>6</td>\n",
       "      <td>24</td>\n",
       "      <td>25</td>\n",
       "      <td>0</td>\n",
       "    </tr>\n",
       "    <tr>\n",
       "      <th>1</th>\n",
       "      <td>GTSRB\\Final_Training\\Images\\00000\\00000_00001.ppm</td>\n",
       "      <td>30</td>\n",
       "      <td>30</td>\n",
       "      <td>5</td>\n",
       "      <td>5</td>\n",
       "      <td>25</td>\n",
       "      <td>25</td>\n",
       "      <td>0</td>\n",
       "    </tr>\n",
       "    <tr>\n",
       "      <th>2</th>\n",
       "      <td>GTSRB\\Final_Training\\Images\\00000\\00000_00002.ppm</td>\n",
       "      <td>30</td>\n",
       "      <td>30</td>\n",
       "      <td>5</td>\n",
       "      <td>5</td>\n",
       "      <td>25</td>\n",
       "      <td>25</td>\n",
       "      <td>0</td>\n",
       "    </tr>\n",
       "    <tr>\n",
       "      <th>3</th>\n",
       "      <td>GTSRB\\Final_Training\\Images\\00000\\00000_00003.ppm</td>\n",
       "      <td>31</td>\n",
       "      <td>31</td>\n",
       "      <td>5</td>\n",
       "      <td>5</td>\n",
       "      <td>26</td>\n",
       "      <td>26</td>\n",
       "      <td>0</td>\n",
       "    </tr>\n",
       "    <tr>\n",
       "      <th>4</th>\n",
       "      <td>GTSRB\\Final_Training\\Images\\00000\\00000_00004.ppm</td>\n",
       "      <td>30</td>\n",
       "      <td>32</td>\n",
       "      <td>5</td>\n",
       "      <td>6</td>\n",
       "      <td>25</td>\n",
       "      <td>26</td>\n",
       "      <td>0</td>\n",
       "    </tr>\n",
       "  </tbody>\n",
       "</table>\n",
       "</div>"
      ],
      "text/plain": [
       "                                            Filename  Width  Height  Roi.X1  \\\n",
       "0  GTSRB\\Final_Training\\Images\\00000\\00000_00000.ppm     29      30       5   \n",
       "1  GTSRB\\Final_Training\\Images\\00000\\00000_00001.ppm     30      30       5   \n",
       "2  GTSRB\\Final_Training\\Images\\00000\\00000_00002.ppm     30      30       5   \n",
       "3  GTSRB\\Final_Training\\Images\\00000\\00000_00003.ppm     31      31       5   \n",
       "4  GTSRB\\Final_Training\\Images\\00000\\00000_00004.ppm     30      32       5   \n",
       "\n",
       "   Roi.Y1  Roi.X2  Roi.Y2  ClassId  \n",
       "0       6      24      25        0  \n",
       "1       5      25      25        0  \n",
       "2       5      25      25        0  \n",
       "3       5      26      26        0  \n",
       "4       6      25      26        0  "
      ]
     },
     "execution_count": 37,
     "metadata": {},
     "output_type": "execute_result"
    }
   ],
   "source": [
    "train_df = pd.concat(dfs, ignore_index=True)\n",
    "train_df.head()"
   ]
  },
  {
   "cell_type": "code",
   "execution_count": 38,
   "metadata": {},
   "outputs": [
    {
     "name": "stdout",
     "output_type": "stream",
     "text": [
      "Number of training images : 39209\n",
      "Number of classes         :    43\n"
     ]
    }
   ],
   "source": [
    "N_CLASSES = np.unique(train_df['ClassId']).size  # keep this for later\n",
    "\n",
    "print(\"Number of training images : {:>5}\".format(train_df.shape[0]))\n",
    "print(\"Number of classes         : {:>5}\".format(N_CLASSES))"
   ]
  },
  {
   "cell_type": "code",
   "execution_count": null,
   "metadata": {},
   "outputs": [],
   "source": [
    "def show_class_distribution(classIDs, title):\n",
    "    \"\"\"\n",
    "    Plot the traffic sign class distribution\n",
    "    \"\"\"\n",
    "    plt.figure(figsize=(15, 5))\n",
    "    plt.title('Class ID distribution for {}'.format(title))\n",
    "    plt.hist(classIDs, bins=N_CLASSES)\n",
    "    plt.show()"
   ]
  },
  {
   "cell_type": "code",
   "execution_count": null,
   "metadata": {},
   "outputs": [],
   "source": [
    "show_class_distribution(train_df['ClassId'], 'Train Data')"
   ]
  },
  {
   "cell_type": "code",
   "execution_count": 39,
   "metadata": {},
   "outputs": [
    {
     "data": {
      "text/html": [
       "<div>\n",
       "<style scoped>\n",
       "    .dataframe tbody tr th:only-of-type {\n",
       "        vertical-align: middle;\n",
       "    }\n",
       "\n",
       "    .dataframe tbody tr th {\n",
       "        vertical-align: top;\n",
       "    }\n",
       "\n",
       "    .dataframe thead th {\n",
       "        text-align: right;\n",
       "    }\n",
       "</style>\n",
       "<table border=\"1\" class=\"dataframe\">\n",
       "  <thead>\n",
       "    <tr style=\"text-align: right;\">\n",
       "      <th></th>\n",
       "      <th>Filename</th>\n",
       "      <th>Width</th>\n",
       "      <th>Height</th>\n",
       "      <th>Roi.X1</th>\n",
       "      <th>Roi.Y1</th>\n",
       "      <th>Roi.X2</th>\n",
       "      <th>Roi.Y2</th>\n",
       "      <th>ClassId</th>\n",
       "    </tr>\n",
       "  </thead>\n",
       "  <tbody>\n",
       "    <tr>\n",
       "      <th>0</th>\n",
       "      <td>GTSRB\\Final_Test\\Images\\00000.ppm</td>\n",
       "      <td>53</td>\n",
       "      <td>54</td>\n",
       "      <td>6</td>\n",
       "      <td>5</td>\n",
       "      <td>48</td>\n",
       "      <td>49</td>\n",
       "      <td>16</td>\n",
       "    </tr>\n",
       "    <tr>\n",
       "      <th>1</th>\n",
       "      <td>GTSRB\\Final_Test\\Images\\00001.ppm</td>\n",
       "      <td>42</td>\n",
       "      <td>45</td>\n",
       "      <td>5</td>\n",
       "      <td>5</td>\n",
       "      <td>36</td>\n",
       "      <td>40</td>\n",
       "      <td>1</td>\n",
       "    </tr>\n",
       "    <tr>\n",
       "      <th>2</th>\n",
       "      <td>GTSRB\\Final_Test\\Images\\00002.ppm</td>\n",
       "      <td>48</td>\n",
       "      <td>52</td>\n",
       "      <td>6</td>\n",
       "      <td>6</td>\n",
       "      <td>43</td>\n",
       "      <td>47</td>\n",
       "      <td>38</td>\n",
       "    </tr>\n",
       "    <tr>\n",
       "      <th>3</th>\n",
       "      <td>GTSRB\\Final_Test\\Images\\00003.ppm</td>\n",
       "      <td>27</td>\n",
       "      <td>29</td>\n",
       "      <td>5</td>\n",
       "      <td>5</td>\n",
       "      <td>22</td>\n",
       "      <td>24</td>\n",
       "      <td>33</td>\n",
       "    </tr>\n",
       "    <tr>\n",
       "      <th>4</th>\n",
       "      <td>GTSRB\\Final_Test\\Images\\00004.ppm</td>\n",
       "      <td>60</td>\n",
       "      <td>57</td>\n",
       "      <td>5</td>\n",
       "      <td>5</td>\n",
       "      <td>55</td>\n",
       "      <td>52</td>\n",
       "      <td>11</td>\n",
       "    </tr>\n",
       "  </tbody>\n",
       "</table>\n",
       "</div>"
      ],
      "text/plain": [
       "                            Filename  Width  Height  Roi.X1  Roi.Y1  Roi.X2  \\\n",
       "0  GTSRB\\Final_Test\\Images\\00000.ppm     53      54       6       5      48   \n",
       "1  GTSRB\\Final_Test\\Images\\00001.ppm     42      45       5       5      36   \n",
       "2  GTSRB\\Final_Test\\Images\\00002.ppm     48      52       6       6      43   \n",
       "3  GTSRB\\Final_Test\\Images\\00003.ppm     27      29       5       5      22   \n",
       "4  GTSRB\\Final_Test\\Images\\00004.ppm     60      57       5       5      55   \n",
       "\n",
       "   Roi.Y2  ClassId  \n",
       "0      49       16  \n",
       "1      40        1  \n",
       "2      47       38  \n",
       "3      24       33  \n",
       "4      52       11  "
      ]
     },
     "execution_count": 39,
     "metadata": {},
     "output_type": "execute_result"
    }
   ],
   "source": [
    "TEST_IMAGE_DIR = 'GTSRB\\\\Final_Test\\\\Images'\n",
    "\n",
    "test_df = pd.read_csv(os.path.join(TEST_IMAGE_DIR, 'GT-final_test.csv'), sep=';')\n",
    "test_df['Filename'] = test_df['Filename'].apply(lambda x: os.path.join(TEST_IMAGE_DIR, x))\n",
    "test_df.head()"
   ]
  },
  {
   "cell_type": "code",
   "execution_count": null,
   "metadata": {},
   "outputs": [],
   "source": [
    "show_class_distribution(test_df['ClassId'], 'Test Data')"
   ]
  },
  {
   "cell_type": "code",
   "execution_count": null,
   "metadata": {},
   "outputs": [],
   "source": [
    "train_distribution, test_distribution = np.zeros(N_CLASSES), np.zeros(N_CLASSES)\n",
    "for c in range(N_CLASSES):\n",
    "    train_distribution[c] = np.sum(train_df['ClassId'] == c) / train_df.shape[0]\n",
    "    test_distribution[c] = np.sum(test_df['ClassId'] == c) / test_df.shape[0]\n",
    "fig, ax = plt.subplots()\n",
    "col_width = 0.5\n",
    "bar_train = ax.bar(np.arange(N_CLASSES), train_distribution, width=col_width, color='r')\n",
    "bar_test = ax.bar(np.arange(N_CLASSES)+col_width, test_distribution, width=col_width, color='b')\n",
    "ax.set_ylabel('PERCENTAGE OF PRESENCE')\n",
    "ax.set_xlabel('CLASS LABEL')\n",
    "ax.set_title('Classes distribution in traffic-sign dataset')\n",
    "ax.set_xticks(np.arange(0, N_CLASSES, 5)+col_width)\n",
    "ax.set_xticklabels(['{:02d}'.format(c) for c in range(0, N_CLASSES, 5)])\n",
    "ax.legend((bar_train[0], bar_test[0]), ('train set', 'test set'))\n",
    "plt.show()"
   ]
  },
  {
   "cell_type": "code",
   "execution_count": null,
   "metadata": {},
   "outputs": [],
   "source": [
    "# Load pickled data\n",
    "import pickle\n",
    "\n",
    "# TODO: Fill this in based on where you saved the training and testing data\n",
    "\n",
    "training_file = ?\n",
    "validation_file=?\n",
    "testing_file = ?\n",
    "\n",
    "with open(training_file, mode='rb') as f:\n",
    "    train = pickle.load(f)\n",
    "with open(validation_file, mode='rb') as f:\n",
    "    valid = pickle.load(f)\n",
    "with open(testing_file, mode='rb') as f:\n",
    "    test = pickle.load(f)\n",
    "    \n",
    "X_train, y_train = train['features'], train['labels']\n",
    "X_valid, y_valid = valid['features'], valid['labels']\n",
    "X_test, y_test = test['features'], test['labels']"
   ]
  },
  {
   "cell_type": "markdown",
   "metadata": {},
   "source": [
    "---\n",
    "\n",
    "## Step 1: Dataset Summary & Exploration\n",
    "\n",
    "The pickled data is a dictionary with 4 key/value pairs:\n",
    "\n",
    "- `'features'` is a 4D array containing raw pixel data of the traffic sign images, (num examples, width, height, channels).\n",
    "- `'labels'` is a 1D array containing the label/class id of the traffic sign. The file `signnames.csv` contains id -> name mappings for each id.\n",
    "- `'sizes'` is a list containing tuples, (width, height) representing the original width and height the image.\n",
    "- `'coords'` is a list containing tuples, (x1, y1, x2, y2) representing coordinates of a bounding box around the sign in the image. **THESE COORDINATES ASSUME THE ORIGINAL IMAGE. THE PICKLED DATA CONTAINS RESIZED VERSIONS (32 by 32) OF THESE IMAGES**\n",
    "\n",
    "Complete the basic data summary below. Use python, numpy and/or pandas methods to calculate the data summary rather than hard coding the results. For example, the [pandas shape method](http://pandas.pydata.org/pandas-docs/stable/generated/pandas.DataFrame.shape.html) might be useful for calculating some of the summary results. "
   ]
  },
  {
   "cell_type": "markdown",
   "metadata": {},
   "source": [
    "### Provide a Basic Summary of the Data Set Using Python, Numpy and/or Pandas"
   ]
  },
  {
   "cell_type": "code",
   "execution_count": 40,
   "metadata": {},
   "outputs": [
    {
     "name": "stdout",
     "output_type": "stream",
     "text": [
      "Number of training examples = 39209\n",
      "Number of val examples = 7841\n",
      "Number of testing examples = 12630\n",
      "Image data shape = 1024\n",
      "Number of classes = 43\n"
     ]
    }
   ],
   "source": [
    "### Replace each question mark with the appropriate value. \n",
    "### Use python, pandas or numpy methods rather than hard coding the results\n",
    "\n",
    "# TODO: Number of training examples\n",
    "n_train = train_df.shape[0]\n",
    "\n",
    "# TODO: Number of validation examples\n",
    "n_validation = int(train_df.shape[0] * 0.2)\n",
    "\n",
    "# TODO: Number of testing examples.\n",
    "n_test = test_df.shape[0]\n",
    "\n",
    "# TODO: What's the shape of an traffic sign image?\n",
    "image_shape = 32*32\n",
    "\n",
    "# TODO: How many unique classes/labels there are in the dataset.\n",
    "n_classes = N_CLASSES\n",
    "\n",
    "print(\"Number of training examples =\", n_train)\n",
    "print(\"Number of val examples =\", n_validation)\n",
    "print(\"Number of testing examples =\", n_test)\n",
    "print(\"Image data shape =\", image_shape)\n",
    "print(\"Number of classes =\", n_classes)"
   ]
  },
  {
   "cell_type": "markdown",
   "metadata": {},
   "source": [
    "### Include an exploratory visualization of the dataset"
   ]
  },
  {
   "cell_type": "markdown",
   "metadata": {},
   "source": [
    "Visualize the German Traffic Signs Dataset using the pickled file(s). This is open ended, suggestions include: plotting traffic sign images, plotting the count of each sign, etc. \n",
    "\n",
    "The [Matplotlib](http://matplotlib.org/) [examples](http://matplotlib.org/examples/index.html) and [gallery](http://matplotlib.org/gallery.html) pages are a great resource for doing visualizations in Python.\n",
    "\n",
    "**NOTE:** It's recommended you start with something simple first. If you wish to do more, come back to it after you've completed the rest of the sections. It can be interesting to look at the distribution of classes in the training, validation and test set. Is the distribution the same? Are there more examples of some classes than others?"
   ]
  },
  {
   "cell_type": "code",
   "execution_count": 41,
   "metadata": {},
   "outputs": [],
   "source": [
    "### Data exploration visualization code goes here.\n",
    "### Feel free to use as many code cells as needed.\n",
    "import matplotlib.pyplot as plt\n",
    "# Visualizations will be shown in the notebook.\n",
    "%matplotlib inline"
   ]
  },
  {
   "cell_type": "code",
   "execution_count": 108,
   "metadata": {},
   "outputs": [
    {
     "name": "stdout",
     "output_type": "stream",
     "text": [
      "Speed limit (50km/h)\n"
     ]
    }
   ],
   "source": [
    "def get_sign_names():\n",
    "    filename = 'C:\\\\Users\\\\petrush\\\\Documents\\\\Python Scripts\\\\Project 2\\\\CarND-Traffic-Sign-Classifier-Project-master\\\\signnames.csv'\n",
    "    \n",
    "    signnames_df = pd.read_csv(filename, index_col='ClassId')\n",
    "    sign_names = []\n",
    "    #print(signnames_df.columns)\n",
    "    for name in signnames_df['SignName']:\n",
    "        sign_names.append(name)\n",
    "    \n",
    "    return sign_names\n",
    "    \n",
    "sign_names = get_sign_names()\n",
    "print(sign_names[2])"
   ]
  },
  {
   "cell_type": "code",
   "execution_count": null,
   "metadata": {},
   "outputs": [],
   "source": [
    "def get_samples(image_data, num_samples, class_id=None):\n",
    "    \"\"\"\n",
    "    Randomly select image filenames and their class IDs\n",
    "    \"\"\"\n",
    "    if class_id is not None:\n",
    "        image_data = image_data[image_data['ClassId']==class_id]\n",
    "    indices = np.random.choice(image_data.shape[0], size=num_samples, replace=False)\n",
    "    return image_data.iloc[indices][['Filename', 'ClassId']].values"
   ]
  },
  {
   "cell_type": "code",
   "execution_count": null,
   "metadata": {},
   "outputs": [],
   "source": [
    "def show_images(image_data, cols=5, sign_names=None, show_shape=False, func=None):\n",
    "    \"\"\"\n",
    "    Given a list of image file paths, load images and show them.\n",
    "    \"\"\"\n",
    "    num_images = len(image_data)\n",
    "    print(num_images)\n",
    "    rows = num_images//cols\n",
    "    plt.figure(figsize=(cols*3,rows*2.5))\n",
    "    for i, (image_file, label) in enumerate(image_data):\n",
    "        image = plt.imread(image_file)\n",
    "        if func is not None:\n",
    "            image = func(image)\n",
    "        plt.subplot(rows, cols, i+1)\n",
    "        plt.imshow(image)\n",
    "        if sign_names is not None:\n",
    "            plt.text(0, 0, '{}: {}'.format(label, sign_names[label]), color='k',backgroundcolor='c', fontsize=8)        \n",
    "        if show_shape:\n",
    "            plt.text(0, image.shape[0], '{}'.format(image.shape), color='k',backgroundcolor='y', fontsize=8)        \n",
    "        plt.xticks([])\n",
    "        plt.yticks([])\n",
    "    plt.show()"
   ]
  },
  {
   "cell_type": "code",
   "execution_count": null,
   "metadata": {},
   "outputs": [],
   "source": [
    "X = get_samples(train_df, 10)\n",
    "print(\"X.shape = \", X.shape, X)\n",
    "show_images(X, sign_names=sign_names, show_shape=True)"
   ]
  },
  {
   "cell_type": "code",
   "execution_count": 42,
   "metadata": {},
   "outputs": [
    {
     "name": "stdout",
     "output_type": "stream",
     "text": [
      "39209 GTSRB\\Final_Training\\Images\\00000\\00000_00000.ppm 0\n"
     ]
    }
   ],
   "source": [
    "X = train_df['Filename'].values\n",
    "y = train_df['ClassId'].values\n",
    "\n",
    "print(len(X), X[0], y[0])"
   ]
  },
  {
   "cell_type": "code",
   "execution_count": 43,
   "metadata": {},
   "outputs": [
    {
     "name": "stdout",
     "output_type": "stream",
     "text": [
      "X_train  (31367, 32, 32, 3)\n"
     ]
    }
   ],
   "source": [
    "INPUT_SHAPE = (32, 32, 3)\n",
    "\n",
    "X_tr_names, y_train = shuffle(X, y)\n",
    "\n",
    "X_tr_names, X_val_names, y_train, y_val = train_test_split(X_tr_names, y_train, test_size=0.2, random_state=0)\n",
    "X_train = []\n",
    "X_val = []\n",
    "for img in X_tr_names:\n",
    "    X_train.append(cv2.resize(plt.imread(img), INPUT_SHAPE[:2]))\n",
    "for img in X_val_names:\n",
    "    X_val.append(cv2.resize(plt.imread(img), INPUT_SHAPE[:2]))\n",
    "\n",
    "X_train = np.asarray(X_train)\n",
    "X_val = np.asarray(X_val)\n",
    "print(\"X_train \", (X_train.shape))"
   ]
  },
  {
   "cell_type": "code",
   "execution_count": 44,
   "metadata": {},
   "outputs": [
    {
     "name": "stdout",
     "output_type": "stream",
     "text": [
      "X_val  (7842, 32, 32, 3)\n"
     ]
    }
   ],
   "source": [
    "print(\"X_val \", (X_val.shape))"
   ]
  },
  {
   "cell_type": "code",
   "execution_count": 45,
   "metadata": {},
   "outputs": [
    {
     "name": "stdout",
     "output_type": "stream",
     "text": [
      "12630 GTSRB\\Final_Test\\Images\\00000.ppm 16\n"
     ]
    }
   ],
   "source": [
    "X_t = test_df['Filename'].values\n",
    "y_t = test_df['ClassId'].values\n",
    "\n",
    "print(len(X_t), X_t[0], y_t[0])"
   ]
  },
  {
   "cell_type": "code",
   "execution_count": 46,
   "metadata": {},
   "outputs": [
    {
     "name": "stdout",
     "output_type": "stream",
     "text": [
      "X_test  (12630, 32, 32, 3)\n"
     ]
    }
   ],
   "source": [
    "X_test = []\n",
    "for img in X_t:\n",
    "    X_test.append(cv2.resize(plt.imread(img), INPUT_SHAPE[:2]))\n",
    "\n",
    "X_test = np.asarray(X_test)\n",
    "print(\"X_test \", (X_test.shape))"
   ]
  },
  {
   "cell_type": "code",
   "execution_count": 47,
   "metadata": {},
   "outputs": [],
   "source": [
    "y_test = y_t"
   ]
  },
  {
   "cell_type": "markdown",
   "metadata": {},
   "source": [
    "----\n",
    "\n",
    "## Step 2: Design and Test a Model Architecture\n",
    "\n",
    "Design and implement a deep learning model that learns to recognize traffic signs. Train and test your model on the [German Traffic Sign Dataset](http://benchmark.ini.rub.de/?section=gtsrb&subsection=dataset).\n",
    "\n",
    "The LeNet-5 implementation shown in the [classroom](https://classroom.udacity.com/nanodegrees/nd013/parts/fbf77062-5703-404e-b60c-95b78b2f3f9e/modules/6df7ae49-c61c-4bb2-a23e-6527e69209ec/lessons/601ae704-1035-4287-8b11-e2c2716217ad/concepts/d4aca031-508f-4e0b-b493-e7b706120f81) at the end of the CNN lesson is a solid starting point. You'll have to change the number of classes and possibly the preprocessing, but aside from that it's plug and play! \n",
    "\n",
    "With the LeNet-5 solution from the lecture, you should expect a validation set accuracy of about 0.89. To meet specifications, the validation set accuracy will need to be at least 0.93. It is possible to get an even higher accuracy, but 0.93 is the minimum for a successful project submission. \n",
    "\n",
    "There are various aspects to consider when thinking about this problem:\n",
    "\n",
    "- Neural network architecture (is the network over or underfitting?)\n",
    "- Play around preprocessing techniques (normalization, rgb to grayscale, etc)\n",
    "- Number of examples per label (some have more than others).\n",
    "- Generate fake data.\n",
    "\n",
    "Here is an example of a [published baseline model on this problem](http://yann.lecun.com/exdb/publis/pdf/sermanet-ijcnn-11.pdf). It's not required to be familiar with the approach used in the paper but, it's good practice to try to read papers like these."
   ]
  },
  {
   "cell_type": "markdown",
   "metadata": {},
   "source": [
    "### Pre-process the Data Set (normalization, grayscale, etc.)"
   ]
  },
  {
   "cell_type": "markdown",
   "metadata": {},
   "source": [
    "Minimally, the image data should be normalized so that the data has mean zero and equal variance. For image data, `(pixel - 128)/ 128` is a quick way to approximately normalize the data and can be used in this project. \n",
    "\n",
    "Other pre-processing steps are optional. You can try different techniques to see if it improves performance. \n",
    "\n",
    "Use the code cell (or multiple code cells, if necessary) to implement the first step of your project."
   ]
  },
  {
   "cell_type": "code",
   "execution_count": null,
   "metadata": {},
   "outputs": [],
   "source": [
    "X_test_norm = (X_test - np.mean(X_test)) / np.std(X_test)"
   ]
  },
  {
   "cell_type": "code",
   "execution_count": null,
   "metadata": {},
   "outputs": [],
   "source": [
    "#normalizer = lambda x: (x - x.mean())/x.std()\n",
    "\n",
    "x_mean = X_train.mean()\n",
    "x_std = X_train.std()\n",
    "print(\"x_mean = \", x_mean, \"x_std = \", x_std)\n",
    "#X_train_norm = normalizer(X_train)\n",
    "X_train_norm = (X_train - 128) / 128\n",
    "X_val_norm = (X_val - 128) / 128\n",
    "#X_val_norm = normalizer(X_val)"
   ]
  },
  {
   "cell_type": "code",
   "execution_count": null,
   "metadata": {},
   "outputs": [],
   "source": [
    "print(np.mean(X_train_norm))\n",
    "print(np.mean(X_val_norm))\n",
    "print(np.mean(X_test_norm))"
   ]
  },
  {
   "cell_type": "code",
   "execution_count": 48,
   "metadata": {},
   "outputs": [],
   "source": [
    "def cs_convert(X, hist=False):\n",
    "    X_gray = np.array([np.expand_dims(cv2.cvtColor(rgb_img, cv2.COLOR_RGB2GRAY), axis=3) for rgb_img in X])\n",
    "    if hist == True:\n",
    "        X_gray = np.array([np.expand_dims(cv2.equalizeHist(np.uint8(img)), axis=3) for img in X_gray])\n",
    "    return X_gray"
   ]
  },
  {
   "cell_type": "code",
   "execution_count": 49,
   "metadata": {},
   "outputs": [
    {
     "name": "stdout",
     "output_type": "stream",
     "text": [
      "(31367, 32, 32, 1) -1.07487264857e-16\n",
      "(7842, 32, 32, 1) 1.57370078883e-16\n",
      "(12630, 32, 32, 1) -8.04757861476e-18\n"
     ]
    }
   ],
   "source": [
    "X_train_gray = cs_convert(X_train, True)\n",
    "X_train_gray = (X_train_gray - np.mean(X_train_gray)) / np.std(X_train_gray)\n",
    "\n",
    "X_val_gray = cs_convert(X_val, True)\n",
    "X_val_gray = (X_val_gray - np.mean(X_val_gray)) / np.std(X_val_gray)\n",
    "\n",
    "X_test_gray = cs_convert(X_test, True)\n",
    "X_test_gray = (X_test_gray - np.mean(X_test_gray)) / np.std(X_test_gray)\n",
    "\n",
    "print(X_train_gray.shape, np.mean(X_train_gray))\n",
    "print(X_val_gray.shape, np.mean(X_val_gray))\n",
    "print(X_test_gray.shape, np.mean(X_test_gray))"
   ]
  },
  {
   "cell_type": "code",
   "execution_count": null,
   "metadata": {},
   "outputs": [],
   "source": [
    "X_test_gray = cs_convert(X_test)\n",
    "X_test_gray = (X_test_gray - np.mean(X_test_gray)) / np.std(X_test_gray)"
   ]
  },
  {
   "cell_type": "code",
   "execution_count": 50,
   "metadata": {},
   "outputs": [
    {
     "name": "stdout",
     "output_type": "stream",
     "text": [
      "(32, 32, 1)\n"
     ]
    },
    {
     "data": {
      "text/plain": [
       "<matplotlib.image.AxesImage at 0x1d68c555128>"
      ]
     },
     "execution_count": 50,
     "metadata": {},
     "output_type": "execute_result"
    },
    {
     "data": {
      "image/png": "[encoded data removed]",
      "text/plain": [
       "<Figure size 432x288 with 1 Axes>"
      ]
     },
     "metadata": {
      "image/png": {
       "height": 250,
       "width": 253
      }
     },
     "output_type": "display_data"
    }
   ],
   "source": [
    "print(X_train_gray[1000].shape)\n",
    "plt.imshow(X_train_gray[10000].squeeze(), cmap='gray')"
   ]
  },
  {
   "cell_type": "code",
   "execution_count": 190,
   "metadata": {},
   "outputs": [
    {
     "name": "stderr",
     "output_type": "stream",
     "text": [
      "Using TensorFlow backend.\n"
     ]
    },
    {
     "data": {
      "text/plain": [
       "\"img_rgb = X_train[0]\\n\\n# plot the original image\\nplt.figure(figsize=(1,1))\\nplt.imshow(img_rgb)\\nplt.title('Example of RGB image (class = {})'.format(y_train[0]))\\nplt.show()\\n\\n# plot some randomly augmented images\\nrows, cols = 4, 10\\nfig, ax_array = plt.subplots(rows, cols)\\nfor ax in ax_array.ravel():\\n    augmented_img, _ = image_datagen.flow(np.expand_dims(img_rgb, 0), y_train[0:1]).next()\\n    ax.imshow(np.uint8(np.squeeze(augmented_img)))\\nplt.setp([a.get_xticklabels() for a in ax_array.ravel()], visible=False)\\nplt.setp([a.get_yticklabels() for a in ax_array.ravel()], visible=False)\\nplt.suptitle('Random examples of data augmentation (starting from the previous image)')\\nplt.show()\""
      ]
     },
     "execution_count": 190,
     "metadata": {},
     "output_type": "execute_result"
    }
   ],
   "source": [
    "from keras.preprocessing.image import ImageDataGenerator\n",
    "\n",
    "# split into train and validation\n",
    "#VAL_RATIO = 0.2\n",
    "#X_train_norm, X_val_norm, y_train, y_val = train_test_split(X_train_norm, y_train, test_size=VAL_RATIO, random_state=0)\n",
    "\n",
    "\n",
    "# create the generator to perform online data augmentation\n",
    "image_datagen = ImageDataGenerator(rotation_range=15.,\n",
    "                                   zoom_range=0.2,\n",
    "                                   width_shift_range=0.1,\n",
    "                                   height_shift_range=0.1)\n",
    "\n",
    "# take a random image from the training set\n",
    "\"\"\"img_rgb = X_train[0]\n",
    "\n",
    "# plot the original image\n",
    "plt.figure(figsize=(1,1))\n",
    "plt.imshow(img_rgb)\n",
    "plt.title('Example of RGB image (class = {})'.format(y_train[0]))\n",
    "plt.show()\n",
    "\n",
    "# plot some randomly augmented images\n",
    "rows, cols = 4, 10\n",
    "fig, ax_array = plt.subplots(rows, cols)\n",
    "for ax in ax_array.ravel():\n",
    "    augmented_img, _ = image_datagen.flow(np.expand_dims(img_rgb, 0), y_train[0:1]).next()\n",
    "    ax.imshow(np.uint8(np.squeeze(augmented_img)))\n",
    "plt.setp([a.get_xticklabels() for a in ax_array.ravel()], visible=False)\n",
    "plt.setp([a.get_yticklabels() for a in ax_array.ravel()], visible=False)\n",
    "plt.suptitle('Random examples of data augmentation (starting from the previous image)')\n",
    "plt.show()\"\"\""
   ]
  },
  {
   "cell_type": "code",
   "execution_count": null,
   "metadata": {},
   "outputs": [],
   "source": [
    "### Preprocess the data here. It is required to normalize the data. Other preprocessing steps could include \n",
    "### converting to grayscale, etc.\n",
    "### Feel free to use as many code cells as needed."
   ]
  },
  {
   "cell_type": "markdown",
   "metadata": {},
   "source": [
    "### Model Architecture"
   ]
  },
  {
   "cell_type": "code",
   "execution_count": null,
   "metadata": {},
   "outputs": [],
   "source": [
    "### Define your architecture here.\n",
    "### Feel free to use as many code cells as needed."
   ]
  },
  {
   "cell_type": "code",
   "execution_count": 205,
   "metadata": {},
   "outputs": [],
   "source": [
    "# clear old variables\n",
    "tf.reset_default_graph()\n",
    "\n",
    "# define our input (e.g. the data that changes every batch)\n",
    "# The first dim is None, and gets sets automatically based on batch size fed in\n",
    "X = tf.placeholder(tf.float32, [None, 32, 32, 1])\n",
    "#X = tf.placeholder(tf.float32, [None, 32, 32, 1])\n",
    "y = tf.placeholder(tf.int64, [None])\n",
    "is_training = tf.placeholder(tf.bool)\n",
    "\n",
    "#saver = tf.train.Saver()\n",
    "\n",
    "# define model\n",
    "def complex_model(X, y, is_training):\n",
    "    # setup variables\n",
    "    \"\"\"Wconv1 = tf.get_variable(\"Wconv1\", shape=[3, 3, 3, 64])\n",
    "    bconv1 = tf.get_variable(\"bconv1\", shape=[64])\n",
    "    Wconv2 = tf.get_variable(\"Wconv2\", shape=[3, 3, 64, 128])\n",
    "    bconv2 = tf.get_variable(\"bconv2\", shape=[128])\n",
    "\n",
    "    W1 = tf.get_variable(\"W1\", shape=[8*8*128+16*16*64, 64])\n",
    "    b1 = tf.get_variable(\"b1\", shape=[64])\n",
    "    W2 = tf.get_variable(\"W2\", shape=[64, 43])\n",
    "    b2 = tf.get_variable(\"b2\", shape=[43])\"\"\"\n",
    "    \n",
    "    Wconv1 = tf.Variable(tf.truncated_normal(shape=(5,5,1,6), mean=0, stddev=0.1), name='Wconv1')\n",
    "    bconv1 = tf.Variable(tf.constant(0.1, shape=(6,)), name='bconv1')\n",
    "    Wconv2 = tf.Variable(tf.truncated_normal(shape=(5,5,6,16), mean=0, stddev=0.1), name='Wconv2')\n",
    "    bconv2 = tf.Variable(tf.constant(0.1, shape=(16,)))\n",
    "    \n",
    "    W1 = tf.Variable(tf.truncated_normal(shape=(5,5,16,400), mean=0, stddev=0.1), name='W1')\n",
    "    b1 = tf.Variable(tf.constant(0.1, shape=(400,)), name='b1')\n",
    "    W2 = tf.Variable(tf.truncated_normal(shape=(800,43), mean=0, stddev=0.1))\n",
    "    b2 = tf.Variable(tf.constant(0.1, shape=(43,)))\n",
    "    \n",
    "    \n",
    "    print(W1.shape)\n",
    "\n",
    "    # define our graph (e.g. two_layer_convnet)\n",
    "    a1 = tf.nn.conv2d(X, Wconv1, strides=[1,1,1,1], padding='VALID') + bconv1\n",
    "    h1 = tf.nn.relu(a1)\n",
    "    print(\"h1.shape: \", h1.shape)\n",
    "    pool1 = tf.nn.max_pool(h1, ksize=[1,2,2,1], strides=[1,2,2,1], padding='VALID')\n",
    "    print(\"pool1.shape: \", pool1.shape)\n",
    "    drop1 = tf.nn.dropout(pool1, keep_prob=keep_prob)\n",
    "    #bn = tf.layers.batch_normalization(h1, axis=3)\n",
    "    #bn1 = batch_norm(h1, 32, is_training)\n",
    "    print(drop1.shape, Wconv2.shape, bconv2.shape)\n",
    "    a2 = tf.nn.conv2d(drop1, Wconv2, strides=[1,1,1,1], padding='VALID') + bconv2\n",
    "    h2 = tf.nn.relu(a2)\n",
    "    pool2 = tf.nn.max_pool(h2, ksize=[1,2,2,1], strides=[1,2,2,1], padding='VALID')\n",
    "    print(\"pool2.shape: \", pool2.shape)\n",
    "    drop2 = tf.nn.dropout(pool2, keep_prob=keep_prob)\n",
    "    \n",
    "    a3 = tf.nn.conv2d(drop2, W1, strides=[1,1,1,1], padding='VALID') + b1\n",
    "    h3 = tf.nn.relu(a3)\n",
    "    \n",
    "    \n",
    "    #bn2 = batch_norm(h2, 64, is_training)\n",
    "    fc0 = tf.concat([flatten(h3), flatten(drop2)], 1)\n",
    "    print(\"fc0.shape: \", fc0.shape)\n",
    "    \n",
    "    y_out = tf.matmul(fc0, W2) + b2\n",
    "    print(\"Logits.shape = \", y_out.shape)\n",
    "    return y_out"
   ]
  },
  {
   "cell_type": "code",
   "execution_count": 206,
   "metadata": {},
   "outputs": [
    {
     "name": "stdout",
     "output_type": "stream",
     "text": [
      "y_one_hot.shape =  (?, 43)\n",
      "(5, 5, 16, 400)\n",
      "h1.shape:  (?, 28, 28, 6)\n",
      "pool1.shape:  (?, 14, 14, 6)\n",
      "(?, 14, 14, 6) (5, 5, 6, 16) (16,)\n",
      "pool2.shape:  (?, 5, 5, 16)\n",
      "fc0.shape:  (?, 800)\n",
      "Logits.shape =  (?, 43)\n"
     ]
    }
   ],
   "source": [
    "#lr = [0.0001, 0.0005, 0.001, 0.005, 0.01, 0.05]\n",
    "keep_prob = tf.placeholder(tf.float32)\n",
    "\n",
    "#global_step = tf.Variable(0, trainable=False)\n",
    "#start_lr = 0.001\n",
    "#lr = tf.train.exponential_decay(start_lr, global_step, 5000, 0.1, staircase=False)\n",
    "lr = 0.0015\n",
    "y_one_hot = tf.one_hot(y, 43)\n",
    "print(\"y_one_hot.shape = \", y_one_hot.shape)\n",
    "logits = complex_model(X,y,is_training)\n",
    "cross_entropy = tf.nn.softmax_cross_entropy_with_logits(logits=logits, labels=y_one_hot)\n",
    "loss = tf.reduce_mean(cross_entropy)\n",
    "optimizer = tf.train.AdamOptimizer(learning_rate=lr)\n",
    "train_step = optimizer.minimize(loss=loss)#, global_step=global_step)"
   ]
  },
  {
   "cell_type": "code",
   "execution_count": 207,
   "metadata": {},
   "outputs": [
    {
     "name": "stdout",
     "output_type": "stream",
     "text": [
      "Tensor(\"Equal:0\", shape=(?,), dtype=bool)\n"
     ]
    }
   ],
   "source": [
    "correct_pred = tf.equal(tf.argmax(logits, 1), tf.argmax(y_one_hot, 1))\n",
    "print(correct_pred)\n",
    "accuracy = tf.reduce_mean(tf.cast(correct_pred, tf.float32))"
   ]
  },
  {
   "cell_type": "code",
   "execution_count": 208,
   "metadata": {},
   "outputs": [],
   "source": [
    "def evaluate(X_data, y_data, batch_size=64):\n",
    "    m = len(X_data)#X_data.shape[0]\n",
    "    \n",
    "    print(\"Evaluate on \", m, \" samples\")\n",
    "\n",
    "    total_acc = 0\n",
    "    \n",
    "    sess = tf.get_default_session()\n",
    "    for offset in range(0, m, batch_size):\n",
    "        batch_x, batch_y = X_data[offset: offset+batch_size], y_data[offset: offset+batch_size]\n",
    "        acc = sess.run(accuracy, feed_dict={X: batch_x, y: batch_y, keep_prob: 1.0})\n",
    "        total_acc += acc * len(batch_x)\n",
    "        \n",
    "    return total_acc / m"
   ]
  },
  {
   "cell_type": "code",
   "execution_count": 209,
   "metadata": {},
   "outputs": [],
   "source": [
    "num_epochs = 30\n",
    "batch_size = 128\n",
    "batches_per_epoch = 5000\n",
    "\n",
    "saver = tf.train.Saver()\n"
   ]
  },
  {
   "cell_type": "code",
   "execution_count": 210,
   "metadata": {},
   "outputs": [],
   "source": [
    "image_datagen.fit(X_train_gray)"
   ]
  },
  {
   "cell_type": "code",
   "execution_count": null,
   "metadata": {},
   "outputs": [],
   "source": [
    "i = 0\n",
    "for batch_x, batch_y in image_datagen.flow(X_train_norm, y_train, batch_size=batch_size):\n",
    "    print(i, batch_x.shape)\n",
    "    i = i + 1"
   ]
  },
  {
   "cell_type": "code",
   "execution_count": null,
   "metadata": {},
   "outputs": [
    {
     "name": "stdout",
     "output_type": "stream",
     "text": [
      "Epoch 1 \n",
      "Learning rate:  0.0015\n",
      "Evaluate on  31367  samples\n",
      "Evaluate on  7842  samples\n",
      "Train accuracy = 0.886      Validation accuracy = 0.878\n",
      "Epoch 2 \n",
      "Learning rate:  0.0015\n",
      "Evaluate on  31367  samples\n",
      "Evaluate on  7842  samples\n",
      "Train accuracy = 0.912      Validation accuracy = 0.906\n",
      "Epoch 3 \n",
      "Learning rate:  0.0015\n",
      "Evaluate on  31367  samples\n",
      "Evaluate on  7842  samples\n",
      "Train accuracy = 0.939      Validation accuracy = 0.928\n",
      "Epoch 4 \n",
      "Learning rate:  0.0015\n",
      "Evaluate on  31367  samples\n",
      "Evaluate on  7842  samples\n",
      "Train accuracy = 0.937      Validation accuracy = 0.922\n",
      "Epoch 5 \n",
      "Learning rate:  0.0015\n",
      "Evaluate on  31367  samples\n",
      "Evaluate on  7842  samples\n",
      "Train accuracy = 0.933      Validation accuracy = 0.925\n",
      "Epoch 6 \n",
      "Learning rate:  0.0015\n",
      "Evaluate on  31367  samples\n",
      "Evaluate on  7842  samples\n",
      "Train accuracy = 0.947      Validation accuracy = 0.934\n",
      "Epoch 7 \n",
      "Learning rate:  0.0015\n",
      "Evaluate on  31367  samples\n",
      "Evaluate on  7842  samples\n",
      "Train accuracy = 0.944      Validation accuracy = 0.939\n",
      "Epoch 8 \n",
      "Learning rate:  0.0015\n",
      "Evaluate on  31367  samples\n",
      "Evaluate on  7842  samples\n",
      "Train accuracy = 0.952      Validation accuracy = 0.942\n",
      "Epoch 9 \n",
      "Learning rate:  0.0005\n",
      "Evaluate on  31367  samples\n",
      "Evaluate on  7842  samples\n",
      "Train accuracy = 0.947      Validation accuracy = 0.939\n",
      "Epoch 10 \n",
      "Learning rate:  0.0005\n",
      "Evaluate on  31367  samples\n",
      "Evaluate on  7842  samples\n",
      "Train accuracy = 0.961      Validation accuracy = 0.951\n",
      "Epoch 11 \n",
      "Learning rate:  0.0005\n",
      "Evaluate on  31367  samples\n",
      "Evaluate on  7842  samples\n",
      "Train accuracy = 0.960      Validation accuracy = 0.950\n",
      "Epoch 12 \n",
      "Learning rate:  0.0005\n",
      "Evaluate on  31367  samples\n",
      "Evaluate on  7842  samples\n",
      "Train accuracy = 0.957      Validation accuracy = 0.948\n",
      "Epoch 13 \n",
      "Learning rate:  0.0005\n",
      "Evaluate on  31367  samples\n",
      "Evaluate on  7842  samples\n",
      "Train accuracy = 0.963      Validation accuracy = 0.954\n",
      "Epoch 14 \n",
      "Learning rate:  0.0005\n"
     ]
    }
   ],
   "source": [
    "train_acc = []\n",
    "val_acc = []\n",
    "thres = 0.94\n",
    "with tf.Session() as sess:\n",
    "    sess.run(tf.global_variables_initializer())\n",
    "    \n",
    "    for epoch in range(num_epochs):\n",
    "        print(\"Epoch {} \".format(epoch + 1))\n",
    "        print(\"Learning rate: \", lr)\n",
    "        \n",
    "        batch_counter = 0\n",
    "        for batch_x, batch_y in image_datagen.flow(X_train_gray, y_train, batch_size=batch_size):\n",
    "            #print(batch_y[0])\n",
    "            batch_counter = batch_counter + 1\n",
    "            sess.run(train_step, feed_dict={X: batch_x, y: batch_y, keep_prob: 0.5})\n",
    "            #print(\"Batch #\", batch_counter)\n",
    "            if batch_counter == batches_per_epoch:\n",
    "                break\n",
    "            \n",
    "        train_acc.append(evaluate(X_train_gray, y_train))\n",
    "        val_acc.append(evaluate(X_val_gray, y_val))\n",
    "        \n",
    "        print(\"Train accuracy = {:.3f}      Validation accuracy = {:.3f}\".format(train_acc[-1], val_acc[-1]))\n",
    "        \n",
    "        saver.save(sess, save_path='C:\\\\Users\\\\petrush\\\\Documents\\\\Python Scripts\\\\Project 2\\\\CarND-Traffic-Sign-Classifier-Project-master\\\\model_augm\\\\model.ckpt', global_step=epoch)\n",
    "        \n",
    "        if val_acc[-1] > thres:\n",
    "            lr = lr / 3\n",
    "            thres = thres + 0.03"
   ]
  },
  {
   "cell_type": "code",
   "execution_count": null,
   "metadata": {},
   "outputs": [],
   "source": [
    "plt.subplot(2,1,2)\n",
    "plt.title('Accuracy')\n",
    "plt.plot(train_acc, '-o', label='train')\n",
    "plt.plot(val_acc, '-o', label='val')\n",
    "plt.xlabel('Epoch')\n",
    "plt.legend(loc='lower right')\n",
    "plt.gcf().set_size_inches(15, 12)\n",
    "plt.show()"
   ]
  },
  {
   "cell_type": "code",
   "execution_count": 59,
   "metadata": {},
   "outputs": [
    {
     "name": "stdout",
     "output_type": "stream",
     "text": [
      "Train samples =  31367\n",
      "Epoch 1 \n",
      "Evaluate on  31367  samples\n",
      "Evaluate on  7842  samples\n",
      "Learning rate:  0.00030000000000000003\n",
      "Train accuracy = 0.750      Validation accuracy = 0.745\n",
      "Epoch 2 \n",
      "Evaluate on  31367  samples\n",
      "Evaluate on  7842  samples\n",
      "Learning rate:  0.00030000000000000003\n",
      "Train accuracy = 0.871      Validation accuracy = 0.865\n",
      "Epoch 3 \n",
      "Evaluate on  31367  samples\n",
      "Evaluate on  7842  samples\n",
      "Learning rate:  0.00030000000000000003\n",
      "Train accuracy = 0.899      Validation accuracy = 0.890\n",
      "Epoch 4 \n",
      "Evaluate on  31367  samples\n",
      "Evaluate on  7842  samples\n",
      "Learning rate:  0.00030000000000000003\n",
      "Train accuracy = 0.923      Validation accuracy = 0.913\n",
      "Epoch 5 \n",
      "Evaluate on  31367  samples\n",
      "Evaluate on  7842  samples\n",
      "Learning rate:  0.00030000000000000003\n",
      "Train accuracy = 0.943      Validation accuracy = 0.931\n",
      "Epoch 6 \n",
      "Evaluate on  31367  samples\n",
      "Evaluate on  7842  samples\n",
      "Learning rate:  0.00030000000000000003\n",
      "Train accuracy = 0.941      Validation accuracy = 0.929\n",
      "Epoch 7 \n",
      "Evaluate on  31367  samples\n",
      "Evaluate on  7842  samples\n",
      "Learning rate:  0.00030000000000000003\n",
      "Train accuracy = 0.953      Validation accuracy = 0.942\n",
      "Epoch 8 \n",
      "Evaluate on  31367  samples\n",
      "Evaluate on  7842  samples\n",
      "Learning rate:  0.00030000000000000003\n",
      "Train accuracy = 0.947      Validation accuracy = 0.937\n",
      "Epoch 9 \n",
      "Evaluate on  31367  samples\n",
      "Evaluate on  7842  samples\n",
      "Learning rate:  0.00030000000000000003\n",
      "Train accuracy = 0.966      Validation accuracy = 0.953\n",
      "Epoch 10 \n",
      "Evaluate on  31367  samples\n",
      "Evaluate on  7842  samples\n",
      "Learning rate:  0.0001\n",
      "Train accuracy = 0.966      Validation accuracy = 0.954\n",
      "Epoch 11 \n",
      "Evaluate on  31367  samples\n",
      "Evaluate on  7842  samples\n",
      "Learning rate:  0.0001\n",
      "Train accuracy = 0.966      Validation accuracy = 0.952\n",
      "Epoch 12 \n",
      "Evaluate on  31367  samples\n",
      "Evaluate on  7842  samples\n",
      "Learning rate:  0.0001\n",
      "Train accuracy = 0.966      Validation accuracy = 0.951\n",
      "Epoch 13 \n",
      "Evaluate on  31367  samples\n",
      "Evaluate on  7842  samples\n",
      "Learning rate:  0.0001\n",
      "Train accuracy = 0.973      Validation accuracy = 0.960\n",
      "Epoch 14 \n",
      "Evaluate on  31367  samples\n",
      "Evaluate on  7842  samples\n",
      "Learning rate:  0.0001\n",
      "Train accuracy = 0.972      Validation accuracy = 0.962\n",
      "Epoch 15 \n",
      "Evaluate on  31367  samples\n",
      "Evaluate on  7842  samples\n",
      "Learning rate:  0.0001\n",
      "Train accuracy = 0.971      Validation accuracy = 0.958\n",
      "Epoch 16 \n",
      "Evaluate on  31367  samples\n",
      "Evaluate on  7842  samples\n",
      "Learning rate:  0.0001\n",
      "Train accuracy = 0.973      Validation accuracy = 0.959\n",
      "Epoch 17 \n",
      "Evaluate on  31367  samples\n",
      "Evaluate on  7842  samples\n",
      "Learning rate:  0.0001\n",
      "Train accuracy = 0.972      Validation accuracy = 0.956\n",
      "Epoch 18 \n",
      "Evaluate on  31367  samples\n",
      "Evaluate on  7842  samples\n",
      "Learning rate:  0.0001\n",
      "Train accuracy = 0.975      Validation accuracy = 0.961\n",
      "Epoch 19 \n",
      "Evaluate on  31367  samples\n",
      "Evaluate on  7842  samples\n",
      "Learning rate:  0.0001\n",
      "Train accuracy = 0.978      Validation accuracy = 0.964\n",
      "Epoch 20 \n",
      "Evaluate on  31367  samples\n",
      "Evaluate on  7842  samples\n",
      "Learning rate:  0.0001\n",
      "Train accuracy = 0.979      Validation accuracy = 0.964\n",
      "Epoch 21 \n",
      "Evaluate on  31367  samples\n",
      "Evaluate on  7842  samples\n",
      "Learning rate:  0.0001\n",
      "Train accuracy = 0.980      Validation accuracy = 0.969\n",
      "Epoch 22 \n",
      "Evaluate on  31367  samples\n",
      "Evaluate on  7842  samples\n",
      "Learning rate:  0.0001\n",
      "Train accuracy = 0.980      Validation accuracy = 0.966\n",
      "Epoch 23 \n",
      "Evaluate on  31367  samples\n",
      "Evaluate on  7842  samples\n",
      "Learning rate:  0.0001\n",
      "Train accuracy = 0.977      Validation accuracy = 0.964\n",
      "Epoch 24 \n",
      "Evaluate on  31367  samples\n",
      "Evaluate on  7842  samples\n",
      "Learning rate:  0.0001\n",
      "Train accuracy = 0.983      Validation accuracy = 0.969\n",
      "Epoch 25 \n",
      "Evaluate on  31367  samples\n",
      "Evaluate on  7842  samples\n",
      "Learning rate:  0.0001\n",
      "Train accuracy = 0.982      Validation accuracy = 0.970\n",
      "Epoch 26 \n",
      "Evaluate on  31367  samples\n",
      "Evaluate on  7842  samples\n",
      "Learning rate:  0.0001\n",
      "Train accuracy = 0.981      Validation accuracy = 0.969\n",
      "Epoch 27 \n",
      "Evaluate on  31367  samples\n",
      "Evaluate on  7842  samples\n",
      "Learning rate:  0.0001\n",
      "Train accuracy = 0.983      Validation accuracy = 0.971\n",
      "Epoch 28 \n",
      "Evaluate on  31367  samples\n",
      "Evaluate on  7842  samples\n",
      "Learning rate:  0.0001\n",
      "Train accuracy = 0.986      Validation accuracy = 0.972\n",
      "Epoch 29 \n",
      "Evaluate on  31367  samples\n",
      "Evaluate on  7842  samples\n",
      "Learning rate:  0.0001\n",
      "Train accuracy = 0.982      Validation accuracy = 0.970\n",
      "Epoch 30 \n",
      "Evaluate on  31367  samples\n",
      "Evaluate on  7842  samples\n",
      "Learning rate:  0.0001\n",
      "Train accuracy = 0.985      Validation accuracy = 0.972\n"
     ]
    }
   ],
   "source": [
    "train_acc2 = []\n",
    "val_acc2 = []\n",
    "\n",
    "thres = 0.95\n",
    "\n",
    "with tf.Session() as sess:\n",
    "    sess.run(tf.global_variables_initializer())\n",
    "    m = X_train_gray.shape[0]\n",
    "    print(\"Train samples = \", m)\n",
    "    for epoch in range(num_epochs):\n",
    "        print(\"Epoch {} \".format(epoch + 1))\n",
    "        \n",
    "        batch_counter = 0\n",
    "        \n",
    "        X_train_gray, y_train = shuffle(X_train_gray, y_train)\n",
    "        \n",
    "        for offset in range(0, m, batch_size):\n",
    "            batch_x, batch_y = X_train_gray[offset: offset+batch_size], y_train[offset: offset+batch_size]\n",
    "            \n",
    "            sess.run(train_step, feed_dict={X: batch_x, y: batch_y, keep_prob: 0.5})\n",
    "            \n",
    "        train_acc2.append(evaluate(X_train_gray, y_train))\n",
    "        #print(\"Training accuracy: \", train_acc[-1])\n",
    "        val_acc2.append(evaluate(X_val_gray, y_val))\n",
    "        #print(\"Validation accuracy: \", val_acc[-1])\n",
    "        \n",
    "        print(\"Learning rate: \", lr)\n",
    "        \n",
    "        print(\"Train accuracy = {:.3f}      Validation accuracy = {:.3f}\".format(train_acc2[-1], val_acc2[-1]))\n",
    "        \n",
    "        saver.save(sess, save_path='C:\\\\Users\\\\petrush\\\\Documents\\\\Python Scripts\\\\Project 2\\\\CarND-Traffic-Sign-Classifier-Project-master\\\\model\\\\model.ckpt', global_step=epoch)\n",
    "        \n",
    "        if val_acc2[-1] > thres:\n",
    "            lr = lr / 3\n",
    "            thres = thres + 0.03"
   ]
  },
  {
   "cell_type": "code",
   "execution_count": 60,
   "metadata": {},
   "outputs": [
    {
     "data": {
      "image/png": "[encoded data removed]",
      "text/plain": [
       "<Figure size 1080x864 with 1 Axes>"
      ]
     },
     "metadata": {
      "image/png": {
       "height": 360,
       "width": 882
      }
     },
     "output_type": "display_data"
    }
   ],
   "source": [
    "plt.subplot(2,1,2)\n",
    "plt.title('Accuracy')\n",
    "plt.plot(train_acc2, '-o', label='train')\n",
    "plt.plot(val_acc2, '-o', label='val')\n",
    "plt.xlabel('Epoch')\n",
    "plt.legend(loc='lower right')\n",
    "plt.gcf().set_size_inches(15, 12)\n",
    "plt.show()"
   ]
  },
  {
   "cell_type": "code",
   "execution_count": null,
   "metadata": {},
   "outputs": [],
   "source": [
    "test_acc = 0\n",
    "X_test_gray = cs_convert(X_test, True)\n",
    "X_test_gray = (X_test_gray - np.mean(X_test_gray)) / np.std(X_test_gray)\n",
    "with tf.Session() as sess:\n",
    "    #sess.run(tf.global_variables_initializer())\n",
    "    saver.restore(sess, 'C:\\\\Users\\\\petrush\\\\Documents\\\\Python Scripts\\\\Project 2\\\\CarND-Traffic-Sign-Classifier-Project-master\\\\model\\\\model.ckpt-29')\n",
    "    m = X_test_gray.shape[0]\n",
    "    print(\"Test samples = \", m)\n",
    "    test_acc = evaluate(X_test_gray, y_test)\n",
    "    \n",
    "    print(\"Test accuracy = {:.3f}\".format(test_acc))"
   ]
  },
  {
   "cell_type": "code",
   "execution_count": 61,
   "metadata": {},
   "outputs": [
    {
     "name": "stdout",
     "output_type": "stream",
     "text": [
      "INFO:tensorflow:Restoring parameters from C:\\Users\\petrush\\Documents\\Python Scripts\\Project 2\\CarND-Traffic-Sign-Classifier-Project-master\\model_augm\\model.ckpt-29\n",
      "Test samples =  12630\n",
      "Evaluate on  12630  samples\n",
      "Test accuracy = 0.795\n"
     ]
    }
   ],
   "source": [
    "test_acc = 0\n",
    "\n",
    "with tf.Session() as sess:\n",
    "    #sess.run(tf.global_variables_initializer())\n",
    "    saver.restore(sess, 'C:\\\\Users\\\\petrush\\\\Documents\\\\Python Scripts\\\\Project 2\\\\CarND-Traffic-Sign-Classifier-Project-master\\\\model_augm\\\\model.ckpt-29')\n",
    "    m = X_test_gray.shape[0]\n",
    "    print(\"Test samples = \", m)\n",
    "    test_acc = evaluate(X_test_gray, y_test)\n",
    "    \n",
    "    print(\"Test accuracy = {:.3f}\".format(test_acc))"
   ]
  },
  {
   "cell_type": "markdown",
   "metadata": {},
   "source": [
    "### Train, Validate and Test the Model"
   ]
  },
  {
   "cell_type": "markdown",
   "metadata": {},
   "source": [
    "A validation set can be used to assess how well the model is performing. A low accuracy on the training and validation\n",
    "sets imply underfitting. A high accuracy on the training set but low accuracy on the validation set implies overfitting."
   ]
  },
  {
   "cell_type": "code",
   "execution_count": null,
   "metadata": {},
   "outputs": [],
   "source": [
    "### Train your model here.\n",
    "### Calculate and report the accuracy on the training and validation set.\n",
    "### Once a final model architecture is selected, \n",
    "### the accuracy on the test set should be calculated and reported as well.\n",
    "### Feel free to use as many code cells as needed."
   ]
  },
  {
   "cell_type": "markdown",
   "metadata": {},
   "source": [
    "---\n",
    "\n",
    "## Step 3: Test a Model on New Images\n",
    "\n",
    "To give yourself more insight into how your model is working, download at least five pictures of German traffic signs from the web and use your model to predict the traffic sign type.\n",
    "\n",
    "You may find `signnames.csv` useful as it contains mappings from the class id (integer) to the actual sign name."
   ]
  },
  {
   "cell_type": "markdown",
   "metadata": {},
   "source": [
    "### Load and Output the Images"
   ]
  },
  {
   "cell_type": "code",
   "execution_count": null,
   "metadata": {},
   "outputs": [],
   "source": [
    "### Load the images and plot them here.\n",
    "### Feel free to use as many code cells as needed."
   ]
  },
  {
   "cell_type": "code",
   "execution_count": 125,
   "metadata": {},
   "outputs": [],
   "source": [
    "new_imgs = []\n",
    "new_target = []\n",
    "for i in range(5):\n",
    "    new_imgs.append(cv2.resize(plt.imread('C:\\\\Users\\\\petrush\\\\Documents\\\\Python Scripts\\\\Project 2\\\\CarND-Traffic-Sign-Classifier-Project-master\\\\examples\\\\' + str(i+1) + '.ppm'), (32, 32)))\n",
    "    new_target.append(y_test[i])\n",
    "new_imgs = np.asarray(new_imgs)"
   ]
  },
  {
   "cell_type": "code",
   "execution_count": 130,
   "metadata": {},
   "outputs": [
    {
     "name": "stdout",
     "output_type": "stream",
     "text": [
      "16 Vehicles over 3.5 metric tons prohibited\n",
      "1 Speed limit (30km/h)\n",
      "38 Keep right\n",
      "33 Turn right ahead\n",
      "11 Right-of-way at the next intersection\n"
     ]
    },
    {
     "data": {
      "image/png": "[encoded data removed]",
      "text/plain": [
       "<Figure size 1080x180 with 1 Axes>"
      ]
     },
     "metadata": {
      "image/png": {
       "height": 168,
       "width": 171
      }
     },
     "output_type": "display_data"
    },
    {
     "data": {
      "image/png": "[encoded data removed]",
      "text/plain": [
       "<Figure size 1080x180 with 1 Axes>"
      ]
     },
     "metadata": {
      "image/png": {
       "height": 168,
       "width": 171
      }
     },
     "output_type": "display_data"
    },
    {
     "data": {
      "image/png": "[encoded data removed]",
      "text/plain": [
       "<Figure size 1080x180 with 1 Axes>"
      ]
     },
     "metadata": {
      "image/png": {
       "height": 168,
       "width": 171
      }
     },
     "output_type": "display_data"
    },
    {
     "data": {
      "image/png": "[encoded data removed]",
      "text/plain": [
       "<Figure size 1080x180 with 1 Axes>"
      ]
     },
     "metadata": {
      "image/png": {
       "height": 168,
       "width": 171
      }
     },
     "output_type": "display_data"
    },
    {
     "data": {
      "image/png": "[encoded data removed]",
      "text/plain": [
       "<Figure size 1080x180 with 1 Axes>"
      ]
     },
     "metadata": {
      "image/png": {
       "height": 168,
       "width": 171
      }
     },
     "output_type": "display_data"
    }
   ],
   "source": [
    "num_images = len(new_imgs)\n",
    "\n",
    "for i, image_file in enumerate(new_imgs):\n",
    "    plt.figure(figsize=(5*3,1*2.5))\n",
    "    plt.subplot(1, 5, i+1)\n",
    "    plt.imshow(image_file)\n",
    "    print(new_target[i], sign_names[new_target[i]])\n",
    "    #plt.xticks([])\n",
    "    #plt.yticks([])\n",
    "    #plt.show()"
   ]
  },
  {
   "cell_type": "code",
   "execution_count": 131,
   "metadata": {},
   "outputs": [],
   "source": [
    "new_imgs_g = cs_convert(new_imgs, True)\n",
    "new_imgs_g = (new_imgs_g - np.mean(new_imgs_g)) / np.std(new_imgs_g)"
   ]
  },
  {
   "cell_type": "code",
   "execution_count": 132,
   "metadata": {},
   "outputs": [
    {
     "data": {
      "text/plain": [
       "<matplotlib.image.AxesImage at 0x1d69b1b9d30>"
      ]
     },
     "execution_count": 132,
     "metadata": {},
     "output_type": "execute_result"
    },
    {
     "data": {
      "image/png": "[encoded data removed]",
      "text/plain": [
       "<Figure size 432x288 with 1 Axes>"
      ]
     },
     "metadata": {
      "image/png": {
       "height": 250,
       "width": 253
      }
     },
     "output_type": "display_data"
    }
   ],
   "source": [
    "plt.imshow(new_imgs[0][:,:,0], cmap='gray')"
   ]
  },
  {
   "cell_type": "markdown",
   "metadata": {},
   "source": [
    "### Predict the Sign Type for Each Image"
   ]
  },
  {
   "cell_type": "code",
   "execution_count": null,
   "metadata": {},
   "outputs": [],
   "source": [
    "### Run the predictions here and use the model to output the prediction for each image.\n",
    "### Make sure to pre-process the images with the same pre-processing pipeline used earlier.\n",
    "### Feel free to use as many code cells as needed."
   ]
  },
  {
   "cell_type": "code",
   "execution_count": 133,
   "metadata": {},
   "outputs": [
    {
     "name": "stdout",
     "output_type": "stream",
     "text": [
      "[16, 1, 38, 33, 11]\n"
     ]
    }
   ],
   "source": [
    "print(new_target)"
   ]
  },
  {
   "cell_type": "code",
   "execution_count": 154,
   "metadata": {},
   "outputs": [
    {
     "name": "stdout",
     "output_type": "stream",
     "text": [
      "INFO:tensorflow:Restoring parameters from C:\\Users\\petrush\\Documents\\Python Scripts\\Project 2\\CarND-Traffic-Sign-Classifier-Project-master\\model\\model.ckpt-29\n",
      "Image 0, Target = 16, Pred = 16 Prob = 99.99985694885254\n",
      "Image 1, Target = 1, Pred = 1 Prob = 99.54115748405457\n",
      "Image 2, Target = 38, Pred = 38 Prob = 100.0\n",
      "Image 3, Target = 33, Pred = 33 Prob = 99.99926090240479\n",
      "Image 4, Target = 11, Pred = 11 Prob = 99.71268773078918\n"
     ]
    }
   ],
   "source": [
    "acc = 0\n",
    "preds = []\n",
    "logi = []\n",
    "with tf.Session() as sess:\n",
    "    #sess.run(tf.global_variables_initializer())\n",
    "    saver.restore(sess, 'C:\\\\Users\\\\petrush\\\\Documents\\\\Python Scripts\\\\Project 2\\\\CarND-Traffic-Sign-Classifier-Project-master\\\\model\\\\model.ckpt-29')\n",
    "    logi = np.array(sess.run(logits, feed_dict={X: new_imgs_g, keep_prob: 1.0}))\n",
    "preds = np.argmax(logi, axis=1)\n",
    "\n",
    "soft_max = tf.nn.softmax(logi)\n",
    "with tf.Session() as sess:\n",
    "    sm = sess.run(soft_max)\n",
    "    top_5 = sess.run(tf.nn.top_k(tf.constant(sm), k=5))\n",
    "for i, pred in enumerate(preds) :\n",
    "    print('Image {}, Target = {}, Pred = {} Prob = {}'.format(i, new_target[i], pred, 100*sm[i, pred]))"
   ]
  },
  {
   "cell_type": "code",
   "execution_count": 178,
   "metadata": {},
   "outputs": [
    {
     "name": "stdout",
     "output_type": "stream",
     "text": [
      "Vehicles over 3.5 metric tons prohibited\n"
     ]
    }
   ],
   "source": [
    "print(sign_names[preds[0]])"
   ]
  },
  {
   "cell_type": "code",
   "execution_count": 188,
   "metadata": {},
   "outputs": [
    {
     "data": {
      "text/plain": [
       "array([1, 5, 2, 7, 4])"
      ]
     },
     "execution_count": 188,
     "metadata": {},
     "output_type": "execute_result"
    }
   ],
   "source": [
    "top_5[1][1]"
   ]
  },
  {
   "cell_type": "markdown",
   "metadata": {},
   "source": [
    "### Analyze Performance"
   ]
  },
  {
   "cell_type": "code",
   "execution_count": null,
   "metadata": {},
   "outputs": [],
   "source": [
    "### Calculate the accuracy for these 5 new images. \n",
    "### For example, if the model predicted 1 out of 5 signs correctly, it's 20% accurate on these new images."
   ]
  },
  {
   "cell_type": "markdown",
   "metadata": {},
   "source": [
    "### Output Top 5 Softmax Probabilities For Each Image Found on the Web"
   ]
  },
  {
   "cell_type": "markdown",
   "metadata": {},
   "source": [
    "For each of the new images, print out the model's softmax probabilities to show the **certainty** of the model's predictions (limit the output to the top 5 probabilities for each image). [`tf.nn.top_k`](https://www.tensorflow.org/versions/r0.12/api_docs/python/nn.html#top_k) could prove helpful here. \n",
    "\n",
    "The example below demonstrates how tf.nn.top_k can be used to find the top k predictions for each image.\n",
    "\n",
    "`tf.nn.top_k` will return the values and indices (class ids) of the top k predictions. So if k=3, for each sign, it'll return the 3 largest probabilities (out of a possible 43) and the correspoding class ids.\n",
    "\n",
    "Take this numpy array as an example. The values in the array represent predictions. The array contains softmax probabilities for five candidate images with six possible classes. `tf.nn.top_k` is used to choose the three classes with the highest probability:\n",
    "\n",
    "```\n",
    "# (5, 6) array\n",
    "a = np.array([[ 0.24879643,  0.07032244,  0.12641572,  0.34763842,  0.07893497,\n",
    "         0.12789202],\n",
    "       [ 0.28086119,  0.27569815,  0.08594638,  0.0178669 ,  0.18063401,\n",
    "         0.15899337],\n",
    "       [ 0.26076848,  0.23664738,  0.08020603,  0.07001922,  0.1134371 ,\n",
    "         0.23892179],\n",
    "       [ 0.11943333,  0.29198961,  0.02605103,  0.26234032,  0.1351348 ,\n",
    "         0.16505091],\n",
    "       [ 0.09561176,  0.34396535,  0.0643941 ,  0.16240774,  0.24206137,\n",
    "         0.09155967]])\n",
    "```\n",
    "\n",
    "Running it through `sess.run(tf.nn.top_k(tf.constant(a), k=3))` produces:\n",
    "\n",
    "```\n",
    "TopKV2(values=array([[ 0.34763842,  0.24879643,  0.12789202],\n",
    "       [ 0.28086119,  0.27569815,  0.18063401],\n",
    "       [ 0.26076848,  0.23892179,  0.23664738],\n",
    "       [ 0.29198961,  0.26234032,  0.16505091],\n",
    "       [ 0.34396535,  0.24206137,  0.16240774]]), indices=array([[3, 0, 5],\n",
    "       [0, 1, 4],\n",
    "       [0, 5, 1],\n",
    "       [1, 3, 5],\n",
    "       [1, 4, 3]], dtype=int32))\n",
    "```\n",
    "\n",
    "Looking just at the first row we get `[ 0.34763842,  0.24879643,  0.12789202]`, you can confirm these are the 3 largest probabilities in `a`. You'll also notice `[3, 0, 5]` are the corresponding indices."
   ]
  },
  {
   "cell_type": "code",
   "execution_count": null,
   "metadata": {},
   "outputs": [],
   "source": [
    "### Print out the top five softmax probabilities for the predictions on the German traffic sign images found on the web. \n",
    "### Feel free to use as many code cells as needed."
   ]
  },
  {
   "cell_type": "markdown",
   "metadata": {},
   "source": [
    "### Project Writeup\n",
    "\n",
    "Once you have completed the code implementation, document your results in a project writeup using this [template](https://github.com/udacity/CarND-Traffic-Sign-Classifier-Project/blob/master/writeup_template.md) as a guide. The writeup can be in a markdown or pdf file. "
   ]
  },
  {
   "cell_type": "markdown",
   "metadata": {},
   "source": [
    "> **Note**: Once you have completed all of the code implementations and successfully answered each question above, you may finalize your work by exporting the iPython Notebook as an HTML document. You can do this by using the menu above and navigating to  \\n\",\n",
    "    \"**File -> Download as -> HTML (.html)**. Include the finished document along with this notebook as your submission."
   ]
  },
  {
   "cell_type": "markdown",
   "metadata": {},
   "source": [
    "---\n",
    "\n",
    "## Step 4 (Optional): Visualize the Neural Network's State with Test Images\n",
    "\n",
    " This Section is not required to complete but acts as an additional excersise for understaning the output of a neural network's weights. While neural networks can be a great learning device they are often referred to as a black box. We can understand what the weights of a neural network look like better by plotting their feature maps. After successfully training your neural network you can see what it's feature maps look like by plotting the output of the network's weight layers in response to a test stimuli image. From these plotted feature maps, it's possible to see what characteristics of an image the network finds interesting. For a sign, maybe the inner network feature maps react with high activation to the sign's boundary outline or to the contrast in the sign's painted symbol.\n",
    "\n",
    " Provided for you below is the function code that allows you to get the visualization output of any tensorflow weight layer you want. The inputs to the function should be a stimuli image, one used during training or a new one you provided, and then the tensorflow variable name that represents the layer's state during the training process, for instance if you wanted to see what the [LeNet lab's](https://classroom.udacity.com/nanodegrees/nd013/parts/fbf77062-5703-404e-b60c-95b78b2f3f9e/modules/6df7ae49-c61c-4bb2-a23e-6527e69209ec/lessons/601ae704-1035-4287-8b11-e2c2716217ad/concepts/d4aca031-508f-4e0b-b493-e7b706120f81) feature maps looked like for it's second convolutional layer you could enter conv2 as the tf_activation variable.\n",
    "\n",
    "For an example of what feature map outputs look like, check out NVIDIA's results in their paper [End-to-End Deep Learning for Self-Driving Cars](https://devblogs.nvidia.com/parallelforall/deep-learning-self-driving-cars/) in the section Visualization of internal CNN State. NVIDIA was able to show that their network's inner weights had high activations to road boundary lines by comparing feature maps from an image with a clear path to one without. Try experimenting with a similar test to show that your trained network's weights are looking for interesting features, whether it's looking at differences in feature maps from images with or without a sign, or even what feature maps look like in a trained network vs a completely untrained one on the same sign image.\n",
    "\n",
    "<figure>\n",
    " <img src=\"visualize_cnn.png\" width=\"380\" alt=\"Combined Image\" />\n",
    " <figcaption>\n",
    " <p></p> \n",
    " <p style=\"text-align: center;\"> Your output should look something like this (above)</p> \n",
    " </figcaption>\n",
    "</figure>\n",
    " <p></p> \n"
   ]
  },
  {
   "cell_type": "code",
   "execution_count": null,
   "metadata": {},
   "outputs": [],
   "source": [
    "### Visualize your network's feature maps here.\n",
    "### Feel free to use as many code cells as needed.\n",
    "\n",
    "# image_input: the test image being fed into the network to produce the feature maps\n",
    "# tf_activation: should be a tf variable name used during your training procedure that represents the calculated state of a specific weight layer\n",
    "# activation_min/max: can be used to view the activation contrast in more detail, by default matplot sets min and max to the actual min and max values of the output\n",
    "# plt_num: used to plot out multiple different weight feature map sets on the same block, just extend the plt number for each new feature map entry\n",
    "\n",
    "def outputFeatureMap(image_input, tf_activation, activation_min=-1, activation_max=-1 ,plt_num=1):\n",
    "    # Here make sure to preprocess your image_input in a way your network expects\n",
    "    # with size, normalization, ect if needed\n",
    "    # image_input =\n",
    "    # Note: x should be the same name as your network's tensorflow data placeholder variable\n",
    "    # If you get an error tf_activation is not defined it may be having trouble accessing the variable from inside a function\n",
    "    activation = tf_activation.eval(session=sess,feed_dict={x : image_input})\n",
    "    featuremaps = activation.shape[3]\n",
    "    plt.figure(plt_num, figsize=(15,15))\n",
    "    for featuremap in range(featuremaps):\n",
    "        plt.subplot(6,8, featuremap+1) # sets the number of feature maps to show on each row and column\n",
    "        plt.title('FeatureMap ' + str(featuremap)) # displays the feature map number\n",
    "        if activation_min != -1 & activation_max != -1:\n",
    "            plt.imshow(activation[0,:,:, featuremap], interpolation=\"nearest\", vmin =activation_min, vmax=activation_max, cmap=\"gray\")\n",
    "        elif activation_max != -1:\n",
    "            plt.imshow(activation[0,:,:, featuremap], interpolation=\"nearest\", vmax=activation_max, cmap=\"gray\")\n",
    "        elif activation_min !=-1:\n",
    "            plt.imshow(activation[0,:,:, featuremap], interpolation=\"nearest\", vmin=activation_min, cmap=\"gray\")\n",
    "        else:\n",
    "            plt.imshow(activation[0,:,:, featuremap], interpolation=\"nearest\", cmap=\"gray\")"
   ]
  }
 ],
 "metadata": {
  "anaconda-cloud": {},
  "kernelspec": {
   "display_name": "Python 3",
   "language": "python",
   "name": "python3"
  },
  "language_info": {
   "codemirror_mode": {
    "name": "ipython",
    "version": 3
   },
   "file_extension": ".py",
   "mimetype": "text/x-python",
   "name": "python",
   "nbconvert_exporter": "python",
   "pygments_lexer": "ipython3",
   "version": "3.5.4"
  }
 },
 "nbformat": 4,
 "nbformat_minor": 1
}
